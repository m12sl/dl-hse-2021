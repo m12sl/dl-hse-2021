{
 "cells": [
  {
   "cell_type": "markdown",
   "metadata": {
    "cellId": "38lqsetzmcbfb8lk82ubeg",
    "id": "cIu1b5Xo4Bdd"
   },
   "source": [
    "# CV – object detection\n",
    "\n",
    "В этой тетрадке мы рассмотрим задачу детекции объектов на примере датасета [Stanford Drone Dataset](https://cvgl.stanford.edu/projects/uav_data/)\n",
    "\n",
    "**Предполагаем, что ноутбук запущен внутри Yandex DataSphere**"
   ]
  },
  {
   "cell_type": "code",
   "execution_count": null,
   "metadata": {
    "cellId": "212z2memf5cmplpkb5eb0s",
    "id": "TyTa9uFb4Bdl"
   },
   "outputs": [],
   "source": [
    "# from pathlib import Path\n",
    "\n",
    "# import numpy as np\n",
    "# import pandas as pd\n",
    "# from tqdm import tqdm\n",
    "# import cv2\n",
    "\n",
    "# import torch\n",
    "# import torch.nn as nn\n",
    "# import torch.nn.functional as F\n",
    "# from torch import optim\n",
    "from torch.utils.data import Dataset, DataLoader\n",
    "# from torchvision.models import resnet34\n",
    "# from torch.utils.tensorboard import SummaryWriter"
   ]
  },
  {
   "cell_type": "markdown",
   "metadata": {
    "cellId": "rgra31480u3h8nfb7hzj4",
    "id": "CiLnuFXG4Bdm"
   },
   "source": [
    "## Data\n",
    "\n",
    "Stanford drone dataset – это датасет из нескольких видео, записанных с дрона в восьми местах (`SCENE_NAME`).\n",
    "Каждое видео покадрово размечено шестью типами объектов (`label`). (Подробное описание датасета лежит в файле `initial_README`)  \n",
    "В текущей задаче мы будем использовать не исходные видео, а фреймы из них.\n",
    "\n",
    "Структура директории с датасетом:\n",
    "- ./stanford-drone-dataset-frames/\n",
    "    - {train, val}/\n",
    "        - annotations/\n",
    "            - {`SCENE_NAME`}/\n",
    "                - video{`VIDEO_ID`}/\n",
    "                    - annotations.csv\n",
    "    - {train, val}/\n",
    "        - frames/\n",
    "            - {`SCENE_NAME`}/\n",
    "                - video{`VIDEO_ID`}/\n",
    "                    - frame_{`FRAME_IDX`}.jpg\n",
    "\n",
    "Для каждого файла с аннотацией есть аналогичный путь к директории, в которой находятся фреймы из видео `frame_{FRAME_IDX}.jpg`.  \n",
    "Например, для фреймов, лежащих в директории `./stanford-drone-dataset-frames/train/frames/quad/video0/`, соответствующий файл с разметкой лежит по пути: `./stanford-drone-dataset-frames/train/annotations/quad/video0/annotations.csv`.\n",
    "\n",
    "Каждая строка в файлах `annotations.csv` содержит аннотацию одного объекта. Каждый CSV файл содержит 11 колонок с хедером.\n",
    "\n",
    "Наиболее интересные нам колонки:\n",
    "- xmin – верхняя левая X-координата бокса объекта (bounding box).\n",
    "- ymin – верхняя левая Y-координата бокса объекта (bounding box).\n",
    "- xmax – нижняя правая X-координата бокса объекта (bounding box).\n",
    "- ymax – нижняя правая Y-координата бокса объекта (bounding box).\n",
    "- frame_idx – индекс фрейма, который соответсвует текущей строке аннотации.\n",
    "\n",
    "Сэмпл из одной сцены можно скачать с [Google Drive](https://drive.google.com/file/d/18XeE0kHWqpLyBfZFbAbUTZqbygETTCLC/view?usp=sharing)."
   ]
  },
  {
   "cell_type": "code",
   "execution_count": null,
   "metadata": {
    "cellId": "bo51i7oqlpdb9m8dwn3spm",
    "tags": []
   },
   "outputs": [],
   "source": [
    "# Качаем архив с данными с Yandex Object Storage.\n",
    "\n",
    "from cloud_ml.storage.api import Storage\n",
    "\n",
    "s3 = Storage.s3(access_key=\"Le9tg70HQEJsoGqjqXH8\", secret_key=\"PUT_SECRET_HERE\")\n",
    "# downloading contents of the remote file into the local one\n",
    "s3.get_dir('dl-hse-2021/stanford-drone-dataset-frames/', './stanford-drone-dataset-frames/')"
   ]
  },
  {
   "cell_type": "markdown",
   "metadata": {
    "cellId": "zrykja70wsr3sw184uq2t7",
    "id": "i8b_O3Y94Bdq"
   },
   "source": [
    "## Задание 1\n",
    "**(0.2 балла)** Напишите класс датасет, который будет возвращать картинку и координаты размеченных на ней объектов."
   ]
  },
  {
   "cell_type": "code",
   "execution_count": null,
   "metadata": {
    "cellId": "oc7biaz3ye06kf75gvciv5"
   },
   "outputs": [],
   "source": [
    "class StanfordDroneDataset(Dataset):\n",
    "    def __init__(self, transform=None):\n",
    "        self.transform = transform\n",
    "\n",
    "    def __len__(self):\n",
    "        pass\n",
    "    \n",
    "    def __getitem__(self, index):\n",
    "        pass"
   ]
  },
  {
   "cell_type": "markdown",
   "metadata": {},
   "source": [
    "## Задание 2\n",
    "(0.2 балла) сделайте подготовку данных на Albumentations, collate_fn и правильный даталоадер, проверьте шейпы выходных тензоров"
   ]
  },
  {
   "cell_type": "code",
   "execution_count": null,
   "metadata": {},
   "outputs": [],
   "source": [
    "transform = A.Compose(\n",
    "    [A.ShiftScaleRotate(p=0.5)],\n",
    "    bbox_params=A.BboxParams(format='pascal_voc', label_fields=['category_ids']),\n",
    ")\n",
    "collate_fn = ...\n",
    "\n",
    "\n",
    "dl = DataLoader(trainset, ...)\n",
    "batch = next(iter(dl))\n",
    "for k, v in batch:\n",
    "    print(k, v)"
   ]
  },
  {
   "cell_type": "markdown",
   "metadata": {},
   "source": [
    "## Задание 3\n",
    "(0.4 балла) Приготовьте модель для детекции, проверьте, что все правильно отрабатывает."
   ]
  },
  {
   "cell_type": "code",
   "execution_count": null,
   "metadata": {},
   "outputs": [],
   "source": [
    "class VeryModel(nn.Module):\n",
    "    def __init__(self):\n",
    "        pass\n",
    "    \n",
    "    def forward(self, x):\n",
    "        pass\n",
    "    \n",
    "    def compute_all(self, batch):\n",
    "        pass\n",
    "\n",
    "net = VeryModel()\n",
    "net.compute_all(batch)"
   ]
  },
  {
   "cell_type": "code",
   "execution_count": null,
   "metadata": {},
   "outputs": [],
   "source": [
    "## Задание 4\n",
    "(0.2 балла) натренируйте модель:\n",
    "- Убедитесь, что она учится,\n",
    "- Проверьте, что на выходе что-то адекватное.\n",
    "\n",
    "Трейнер можно взять с любого занятия.\n"
   ]
  },
  {
   "cell_type": "code",
   "execution_count": null,
   "metadata": {},
   "outputs": [],
   "source": []
  }
 ],
 "metadata": {
  "kernelspec": {
   "display_name": "Python 3",
   "language": "python",
   "name": "python3"
  },
  "language_info": {
   "codemirror_mode": {
    "name": "ipython",
    "version": 3
   },
   "file_extension": ".py",
   "mimetype": "text/x-python",
   "name": "python",
   "nbconvert_exporter": "python",
   "pygments_lexer": "ipython3",
   "version": "3.6.9"
  },
  "notebookId": "9935212b-e500-44f9-a4c4-3120eefe04fc"
 },
 "nbformat": 4,
 "nbformat_minor": 4
}
